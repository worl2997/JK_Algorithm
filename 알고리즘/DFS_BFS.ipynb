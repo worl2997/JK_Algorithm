{
 "cells": [
  {
   "cell_type": "code",
   "execution_count": 7,
   "outputs": [
    {
     "name": "stdout",
     "output_type": "stream",
     "text": [
      "1 2 7 6 8 3 4 5 "
     ]
    }
   ],
   "source": [
    "'''\n",
    "DFS 개념 및 단순 구현\n",
    "\n",
    "DFS는 깊이 우선 탐색 알고리즘,\n",
    "특정 경로로 탐색하다가, 특정한 상황에서 최대한 깊숙히 노드를 방문한 후,\n",
    "다시 돌아가 다른 경로로 탐색하는 알고리즘\n",
    "\n",
    "<동작 과정>\n",
    "- 탐색 시작 노드를 스택에 삽입하고 방문 처리함\n",
    "- 스택의 최상단 노드에 방문하지 않은 인접노드가 있음, 그 인접 노드를 스택에 넣고 방문 처리를 한다.\n",
    "  방문하지 않은 인접노드가 없으면, 스택에서 최상단 노드를 꺼냄\n",
    "- 더 이상 수행할 노드가 없을 때까지 반복한다\n",
    "'''\n",
    "\n",
    "# 각 노드가 연결된 정보를 리스트 자료형으로 표현 (2차원 리스트)\n",
    "graph = [\n",
    "    [],\n",
    "    [2, 3, 8],\n",
    "    [1 , 7],\n",
    "    [1 , 4, 5],\n",
    "    [3, 5],\n",
    "    [3, 4],\n",
    "    [7],\n",
    "    [2, 6, 8],\n",
    "    [1 , 7]\n",
    "]\n",
    "\n",
    "visited = [False]*9\n",
    "\n",
    "\n",
    "def dfs(graph, v, visited):\n",
    "    # 현재노드를 방문 처리\n",
    "    visited[v] = True\n",
    "    print(v, end=' ')\n",
    "\n",
    "    # 현재 노드와 연결된 다른 노드를 재귀적으로 방문\n",
    "    for i in graph[v]:\n",
    "        if not visited[i]: # visited[i]가 False라면 방문\n",
    "            dfs(graph, i, visited)\n",
    "\n",
    "dfs(graph,1, visited)"
   ],
   "metadata": {
    "collapsed": false,
    "pycharm": {
     "name": "#%%\n"
    }
   }
  },
  {
   "cell_type": "code",
   "execution_count": 8,
   "outputs": [
    {
     "name": "stdout",
     "output_type": "stream",
     "text": [
      "1 2 3 8 7 4 5 6 "
     ]
    }
   ],
   "source": [
    "'''\n",
    "BFS\n",
    "\n",
    "BFS 알고리즘은 '너비 우선 탐색'이라는 의미를 가진다\n",
    "즉 동 레벨에서 가까운 노드부터 탐색하는 알고리즘으로,\n",
    "최대한 멀리 있는 노드를 우선으로 탐색하는 DFS와는 다른 방식으로 동작한다.\n",
    "\n",
    "BFS를 구현에서는 선입선출 방식인 큐 자료구조를 이용하는 것이 정석이다.\n",
    "인접한 노드를 반복적으로 큐에 넣도록 알고리즘을 작성함을써,\n",
    "자연스럽게 먼저 들어온 것이 먼저 나가게 되고, 가까운 노드부터 탐색을 수행하게된다.\n",
    "\n",
    "<BFS 동작 방식>\n",
    "- 탐색 시작 노드를 큐에 삽입하고 방문 처리를 한다.\n",
    "- 큐에서 노드를 꺼내 해당 노드의 인접 노드 중에서 방문하지 않은 노드를 모두 큐에 삽입하고 방문처리\n",
    "- 더 이상 수행할 수 없을 때까지 반복\n",
    "'''\n",
    "from collections import deque\n",
    "\n",
    "graph = [\n",
    "    [],\n",
    "    [2, 3, 8],\n",
    "    [1 , 7],\n",
    "    [1 , 4, 5],\n",
    "    [3, 5],\n",
    "    [3, 4],\n",
    "    [7],\n",
    "    [2, 6, 8],\n",
    "    [1 , 7]\n",
    "]\n",
    "\n",
    "visited = [False]*9\n",
    "\n",
    "def bfs(graph, start, visited):\n",
    "\n",
    "    # 시작 노드를 큐에 삽입\n",
    "    Q = deque([start])\n",
    "    # 방문처리\n",
    "    visited[start] = True\n",
    "\n",
    "    while Q:\n",
    "        node = Q.popleft()\n",
    "        print(node, end=' ')\n",
    "\n",
    "        # 해당 원소와 연결된, 아직 방문하지 않은 원소들을 큐에 삽입\n",
    "        for i in graph[node]:\n",
    "            if not visited[i]:\n",
    "                Q.append(i)\n",
    "                visited[i] = True\n",
    "\n",
    "bfs(graph,1,visited)"
   ],
   "metadata": {
    "collapsed": false,
    "pycharm": {
     "name": "#%%\n"
    }
   }
  },
  {
   "cell_type": "markdown",
   "source": [
    "## 음료수 얼려 먹기\n",
    "NxM 크기의 얼음 틀이 있다. 구멍이 \n"
   ],
   "metadata": {
    "collapsed": false
   }
  }
 ],
 "metadata": {
  "kernelspec": {
   "display_name": "Python 3",
   "language": "python",
   "name": "python3"
  },
  "language_info": {
   "codemirror_mode": {
    "name": "ipython",
    "version": 2
   },
   "file_extension": ".py",
   "mimetype": "text/x-python",
   "name": "python",
   "nbconvert_exporter": "python",
   "pygments_lexer": "ipython2",
   "version": "2.7.6"
  }
 },
 "nbformat": 4,
 "nbformat_minor": 0
}
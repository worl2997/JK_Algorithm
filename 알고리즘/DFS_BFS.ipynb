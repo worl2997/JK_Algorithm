{
 "cells": [
  {
   "cell_type": "code",
   "execution_count": null,
   "outputs": [],
   "source": [
    "'''\n",
    "DFS 개념 및 단순 구현\n",
    "\n",
    "DFS는 깊이 우선 탐색 알고리즘,\n",
    "특정 경로로 탐색하다가, 특정한 상황에서 최대한 깊숙히 노드를 방문한 후,\n",
    "다시 돌아가 다른 경로로 탐색하는 알고리즘\n",
    "\n",
    "<동작 과정>\n",
    "- 탐색 시작 노드를 스택에 삽입하고 방문 처리함\n",
    "- 스택의 최상단 노드에 방문하지 않은 인접노드가 있음, 그 인접 노드를 스택에 넣고 방문 처리를 한다.\n",
    "  방문하지 않은 인접노드가 없으면, 스택에서 최상단 노드를 꺼냄\n",
    "- 더 이상 수행할 노드가 없을 때까지 반복한다\n",
    "'''\n",
    "\n",
    "# 각 노드가 연결된 정보를 리스트 자료형으로 표현 (2차원 리스트)\n",
    "graph = [\n",
    "    [],\n",
    "    [2, 3, 8],\n",
    "    [1 , 7],\n",
    "    [1 , 4, 5],\n",
    "    [3, 5],\n",
    "    [3, 4],\n",
    "    [7],\n",
    "    [2, 6, 8],\n",
    "    [1 , 7]\n",
    "]\n",
    "\n",
    "visited = [False]*9\n",
    "\n",
    "\n",
    "def dfs(graph, v, visited):\n",
    "    # 현재노드를 방문 처리\n",
    "    visited[v] = True\n",
    "    print(v, end=' ')\n",
    "\n",
    "    # 현재 노드와 연결된 다른 노드를 재귀적으로 방문\n",
    "    for i in graph[v]:\n",
    "        if not visited[i]: # visited[i]가 False라면 방문\n",
    "            dfs(graph, i, visited)\n",
    "\n",
    "dfs(graph,1, visited)"
   ],
   "metadata": {
    "collapsed": false,
    "pycharm": {
     "name": "#%%\n"
    }
   }
  },
  {
   "cell_type": "code",
   "execution_count": null,
   "outputs": [],
   "source": [
    "'''\n",
    "BFS\n",
    "\n",
    "BFS 알고리즘은 '너비 우선 탐색'이라는 의미를 가진다\n",
    "즉 동 레벨에서 가까운 노드부터 탐색하는 알고리즘으로,\n",
    "최대한 멀리 있는 노드를 우선으로 탐색하는 DFS와는 다른 방식으로 동작한다.\n",
    "\n",
    "BFS를 구현에서는 선입선출 방식인 큐 자료구조를 이용하는 것이 정석이다.\n",
    "인접한 노드를 반복적으로 큐에 넣도록 알고리즘을 작성함을써,\n",
    "자연스럽게 먼저 들어온 것이 먼저 나가게 되고, 가까운 노드부터 탐색을 수행하게된다.\n",
    "\n",
    "<BFS 동작 방식>\n",
    "- 탐색 시작 노드를 큐에 삽입하고 방문 처리를 한다.\n",
    "- 큐에서 노드를 꺼내 해당 노드의 인접 노드 중에서 방문하지 않은 노드를 모두 큐에 삽입하고 방문처리\n",
    "- 더 이상 수행할 수 없을 때까지 반복\n",
    "'''\n",
    "from collections import deque\n",
    "\n",
    "graph = [\n",
    "    [],\n",
    "    [2, 3, 8],\n",
    "    [1 , 7],\n",
    "    [1 , 4, 5],\n",
    "    [3, 5],\n",
    "    [3, 4],\n",
    "    [7],\n",
    "    [2, 6, 8],\n",
    "    [1 , 7]\n",
    "]\n",
    "\n",
    "visited = [False]*9\n",
    "\n",
    "def bfs(graph, start, visited):\n",
    "\n",
    "    # 시작 노드를 큐에 삽입\n",
    "    Q = deque([start])\n",
    "    # 방문처리\n",
    "    visited[start] = True\n",
    "\n",
    "    while Q:\n",
    "        node = Q.popleft()\n",
    "        print(node, end=' ')\n",
    "\n",
    "        # 해당 원소와 연결된, 아직 방문하지 않은 원소들을 큐에 삽입\n",
    "        for i in graph[node]:\n",
    "            if not visited[i]:\n",
    "                Q.append(i)\n",
    "                visited[i] = True\n",
    "\n",
    "bfs(graph,1,visited)"
   ],
   "metadata": {
    "collapsed": false,
    "pycharm": {
     "name": "#%%\n"
    }
   }
  },
  {
   "cell_type": "markdown",
   "source": [
    "## 음료수 얼려먹기\n",
    "![음료수.png](../img/음료수얼려먹기.png)"
   ],
   "metadata": {
    "collapsed": false
   }
  },
  {
   "cell_type": "code",
   "execution_count": null,
   "outputs": [],
   "source": [
    "# 느낌상 BFS로 인접탐색을 하여 얼음의 개수를 탐색해야할듯\n",
    "# 첫 번재 풀이\n",
    "from collections import deque\n",
    "\n",
    "n, m = map(int, input().split())\n",
    "map_ = [list(map(int, input())) for _ in range(n)]\n",
    "ans = 0\n",
    "q = deque()\n",
    "dx = [1,0,-1,0]\n",
    "dy = [0,1,0,-1]\n",
    "\n",
    "\n",
    "for i in range(n):\n",
    "    for j in range(m):\n",
    "        if map_[i][j] != 1:\n",
    "            ans +=1\n",
    "            map_[i][j] = 1\n",
    "            q.append((i,j)) # start node 입력\n",
    "\n",
    "            while q:\n",
    "                node = q.popleft()\n",
    "                for x, y in zip(dx, dy):\n",
    "                    n_x = node[0] + x\n",
    "                    n_y = node[1] + y\n",
    "\n",
    "                    if n_x<0 or n_x>=n or n_y<0 or n_y>=m:\n",
    "                        continue\n",
    "                    else:\n",
    "                        if map_[n_x][n_y] == 0 :\n",
    "                            q.append((n_x,n_y))\n",
    "                            map_[n_x][n_y] =1\n",
    "\n",
    "print(ans)\n",
    "\n"
   ],
   "metadata": {
    "collapsed": false,
    "pycharm": {
     "name": "#%%\n"
    }
   }
  },
  {
   "cell_type": "markdown",
   "source": [
    "### 정답지 풀이\n",
    "얼음을 얼릴 수 있는 공간이 상,하,좌,우로 연결되어 있다고 표현할 수 있으므로,\n",
    "그래프 형태로 모델링 할 수 있다.\n",
    "\n",
    "어쨋건 문제를 풀려면,\n",
    "0값의 상,하,좌,우로 연결되어 있는 노드를 묶는 묶음을 찾아야하는데,\n",
    "이를 dfs로 해결가능함\n",
    "- 특정한 지점의 주변 상,하,좌,우를 살펴본 뒤에 주변 지점중에서 값이'0'이면서\n",
    "  아직 방문하지 않은 지점이 있다면 해당 지점을 방문한다.\n",
    "- 방문한 지점에서 다시 상,하,좌,우를 살펴보면서 방문을 다시 진행하면 연결된 모든 지점 방문 가능\n",
    "- 위 과정을 모든 노드에 바녹하며 방문하지 않은 지점의 수를 센다\n"
   ],
   "metadata": {
    "collapsed": false
   }
  },
  {
   "cell_type": "code",
   "execution_count": null,
   "outputs": [],
   "source": [
    "# 입력 값 받기\n",
    "n, m = map(int, input().split())\n",
    "graph = [list(map(int,input().split())) for _ in range(n)]\n",
    "\n",
    "# DFS로 특정한 노드를 방문한 뒤에 연결된 노드들도 방문\n",
    "def dfs(x,y):\n",
    "    if x<=-1 or x>=n or y<=-1 or y>=m:\n",
    "        return False # 잘못된 위치\n",
    "\n",
    "    # 아직 방문하지 않은 노드일 경우\n",
    "    if graph[x][y] ==0 :\n",
    "        # 해당 노드 방문 처리\n",
    "        graph[x][y] =1\n",
    "\n",
    "        # 상, 하 ,좌, 우 재귀로 호출\n",
    "        dfs(x-1,y)\n",
    "        dfs(x,y-1)\n",
    "        dfs(x+1,y)\n",
    "        dfs(x,y+1)\n",
    "        return True # 모두 탐색 성공하면 True 반환\n",
    "    return False # 현재 노노드가 이미 방문한 노드라면 False\n",
    "\n",
    "result = 0\n",
    "for i in range(n):\n",
    "    for j in range(m):\n",
    "        # 현재 위치에서 DFS 수행\n",
    "        if dfs(i,j) == True:\n",
    "            result +=1\n",
    "\n",
    "print(result)"
   ],
   "metadata": {
    "collapsed": false,
    "pycharm": {
     "name": "#%%\n"
    }
   }
  },
  {
   "cell_type": "markdown",
   "source": [
    "## 미로 탈출\n",
    "\n",
    "![미로탐색.png](../img/미로탐색.png)\n"
   ],
   "metadata": {
    "collapsed": false
   }
  },
  {
   "cell_type": "code",
   "execution_count": null,
   "outputs": [],
   "source": [
    "# BFS를 활용하면 쉽게 풀릴듯\n",
    "from collections import deque\n",
    "\n",
    "n,m = map(int, input().split())\n",
    "map_ = [list(map(int, input())) for _ in range(n)]\n",
    "start = (0,0)\n",
    "q = deque()\n",
    "\n",
    "dx = [1,0,-1,0]\n",
    "dy = [0,1,0,-1]\n",
    "visited = []  # 방문했던 노드를 체크하는 리스트\n",
    "\n",
    "q.append(start)\n",
    "\n",
    "while q:\n",
    "    node = q.popleft()\n",
    "\n",
    "    for x, y in zip(dx,dy):\n",
    "        n_x = node[0] + x\n",
    "        n_y = node[1] + y\n",
    "\n",
    "        if (n_x,n_y) in visited:\n",
    "            continue\n",
    "        if n_x<=-1 or n_x>=n or n_y<=-1 or n_y>=m:\n",
    "            continue\n",
    "        else:\n",
    "            if map_[n_x][n_y] > 0 :\n",
    "                map_[n_x][n_y] = map_[n_x][n_y] + map_[node[0]][node[1]]\n",
    "                q.append((n_x,n_y))\n",
    "                visited.append((n_x,n_y))\n",
    "\n",
    "\n",
    "print(map_[n-1][m-1])"
   ],
   "metadata": {
    "collapsed": false,
    "pycharm": {
     "name": "#%%\n"
    }
   }
  },
  {
   "cell_type": "markdown",
   "source": [
    "### 정답지 풀이\n",
    "\n",
    "BFS는 시작 지점에서 가까운 노드부터 차례대로 그래프의 모든 노드를 탐색하기 때문에 이러한 미로 탐색 문제는 BFS를 이용하여 풀면 효과적이다, 따라서 (1,1) 지점에서부터 BFS를 수행하여 모든 노드의 값을 거리 정보로 넣으면 된다."
   ],
   "metadata": {
    "collapsed": false
   }
  },
  {
   "cell_type": "code",
   "execution_count": null,
   "outputs": [],
   "source": [
    "from collections import deque\n",
    "\n",
    "n,m = map(int, input().split())\n",
    "graph = [list(map(int, input())) for _ in range(n)]\n",
    "start = (0,0)\n",
    "\n",
    "dx = [1,0,-1,0]\n",
    "dy = [0,1,0,-1]\n",
    "\n",
    "# BFS 소스코드 구현\n",
    "def bfs(x,y):\n",
    "    q = deque()\n",
    "    q.append((x,y))\n",
    "\n",
    "    # 큐가 빌 때까지 반복\n",
    "    while q:\n",
    "        x,y = q.popleft()\n",
    "        # 현재 위치에서 네방향으로 위치 확인\n",
    "        nx = x + dx[i]\n",
    "        ny = y + dy[i]\n",
    "\n",
    "        # 미로를 벗어나면 무시\n",
    "        if n_x<=-1 or n_x>=n or n_y<=-1 or n_y>=m:\n",
    "            continue\n",
    "        # 벽인 경우 무시\n",
    "        if graph[nx][ny] ==0:\n",
    "            continue\n",
    "        # 해당 노드를 처음 방문하는 경우에만 최단 거리 기록\n",
    "        if graph[nx][ny] ==1 :\n",
    "            graph[nx][ny] = graph[x][y] +1\n",
    "            q.append((nx,ny))\n",
    "\n",
    "    return graph[n-1][m-1]\n",
    "\n",
    "print(bfs(0,0))"
   ],
   "metadata": {
    "collapsed": false,
    "pycharm": {
     "name": "#%%\n"
    }
   }
  }
 ],
 "metadata": {
  "kernelspec": {
   "display_name": "Python 3",
   "language": "python",
   "name": "python3"
  },
  "language_info": {
   "codemirror_mode": {
    "name": "ipython",
    "version": 3
   },
   "file_extension": ".py",
   "mimetype": "text/x-python",
   "name": "python",
   "nbconvert_exporter": "python",
   "pygments_lexer": "ipython3",
   "version": "3.8.8"
  }
 },
 "nbformat": 4,
 "nbformat_minor": 1
}
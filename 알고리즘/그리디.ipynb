{
 "cells": [
  {
   "cell_type": "markdown",
   "id": "e2c65d49",
   "metadata": {},
   "source": [
    "# 그리디 \n",
    "- 현재 상황에서 지금 당장 최선의 것을 고르는 알고리즘 \n",
    "- 현재의 선택이 나중에 미칠 영향에 대해서는 고려하지 않음 \n",
    "- 정렬, 최단 경로 알고리즘들과 달리 사전에 알고 있지않아도 풀기 쉬움 \n"
   ]
  },
  {
   "cell_type": "markdown",
   "id": "7b0bb2e6",
   "metadata": {},
   "source": [
    "### 예제 1. 거스름돈 \n",
    "- https://www.acmicpc.net/problem/5585\n",
    "  \n",
    "문제:  \n",
    "타로는 자주 JOI잡화점에서 물건을 산다. JOI잡화점에는 잔돈으로 500엔, 100엔, 50엔, 10엔, 5엔, 1엔이 충분히 있고, 언제나 거스름돈 개수가 가장 적게 잔돈을 준다. 타로가 JOI잡화점에서 물건을 사고 카운터에서 1000엔 지폐를 한장 냈을 때, 받을 잔돈에 포함된 잔돈의 개수를 구하는 프로그램을 작성하시오.\n",
    "\n",
    "\n",
    "고찰:   \n",
    "해당 문제를 그리디로 풀 수 있는 이유는 가지고 있는 동전중에서 큰 단위가 항상 작은 단위의 배수이므로 작은 단위의 동전들을 종합해 다른 해가 나올 수 없기 때문. 만약 어떤 문제를 만났을 때, 바로 문제 유형을 파악하기 어렵ㄷ면, 그리디 ㅏㄹ고리즘을 의심하고, 문제를 해결할 수 있는 greedy 해결법이 존재하는지 고민해보고, 답이 없다면 다이나믹 프로그래밍이나 그래프 알고리즘 등을 문제를 해결해 보려고 고민해보자 "
   ]
  },
  {
   "cell_type": "code",
   "execution_count": 9,
   "id": "23e5cb24",
   "metadata": {},
   "outputs": [
    {
     "name": "stdout",
     "output_type": "stream",
     "text": [
      "1\n",
      "15\n"
     ]
    }
   ],
   "source": [
    "m = int(input()) \n",
    "ans = 0 \n",
    "charge = 1000- m \n",
    "money = [500, 100, 50, 10, 5, 1]\n",
    "\n",
    "for i in money:\n",
    "    ans += charge//i\n",
    "    charge = charge %i  \n",
    "print(ans)"
   ]
  },
  {
   "cell_type": "markdown",
   "id": "427c94a3",
   "metadata": {},
   "source": [
    "### 예제 2. 큰 수의 법칙 \n",
    "다양한 수로 이루어진 배열이 있을 때 주어진 수들을 M번 더하여 가장 큰 수를 만드는 법칙 단, 배열의 특정한 인덱스에 해당하는 수가 연속해서 K번을 초과해 더할 수는 없다.\n",
    "  \n",
    "입력 조건:  \n",
    "\n",
    "첫째 줄에 N(2 <= N <= 1,000), M(2 <= M <= 10,000), K(1 <= K <= 10,000)의 자연수가 주어지며,각 자연수는 공백으로 구분한다.\n",
    "둘째 줄에 N개의 자연수가 주어진다. 각 자연수는 공백으로 구분한다. 단, 각각의 자연수는 1 이상 10,000이하의 수로 주어진다.\n",
    "입력으로 주어지는 K는 항상 M보다 작거나 같다.  \n",
    "\n",
    "출력 조건:  \n",
    "\n",
    "첫째 줄에 동빈이의 큰 수의 법칙에 따라 더해진 답을 출력한다."
   ]
  },
  {
   "cell_type": "code",
   "execution_count": 30,
   "id": "c2bd3c51",
   "metadata": {},
   "outputs": [
    {
     "name": "stdout",
     "output_type": "stream",
     "text": [
      "5 8 3\n",
      "2 4 5 4 6\n",
      "46\n"
     ]
    }
   ],
   "source": [
    "# 배열 안의 숫자를 총 M 번더함 \n",
    "# 각 요소들을 연속해서 K번 초과하여 더할 수없음 \n",
    "# 위 조건을 만족해서 가장 큰 수를 구해라 \n",
    "\n",
    "n,m,k = map(int, input().split())\n",
    "n_list = list(map(int, input().split()))\n",
    "n_list.sort()\n",
    "first = n_list[-1]\n",
    "second = n_list[-2]\n",
    "ans = 0 \n",
    "\n",
    "while True: \n",
    "    for i in range(k): \n",
    "        if m==0: \n",
    "            break\n",
    "        ans += first\n",
    "        m-=1 \n",
    "    if m==0:\n",
    "        break \n",
    "    ans += second \n",
    "    m -=1 \n",
    "\n",
    "print(ans)"
   ]
  },
  {
   "cell_type": "markdown",
   "id": "c6386ebf",
   "metadata": {},
   "source": [
    "### 예제 3. 숫자 카드 게임   \n",
    "숫자 카드 게임은 여러 개의 숫자 카드 중에서 가장 높은 숫자가 쓰인 카드 한 장을 뽑는 게임이다. 단, 게임의 룰을 지키며 카드를 뽑아야 하고 룰은 다음과 같다.\n",
    "\n",
    "숫자가 쓰인 카드들이 N x M 형태로 놓여 있다. 이때 N은 행의 개수를 의미하며, M은 열의 개수를 의미한다.\n",
    "먼저 뽑고자 하는 카드가 포함되어 있는 행을 선택한다.\n",
    "그다음 선택된 행에 포함된 카드들 중 가장 숫자가 낮은 카드를 뽑아야 한다.\n",
    "따라서 처음에 카드를 골라낼 행을 선택할 때, 이후에 해당 행에서 가장 숫자가 낮은 카드를 뽑을 것을 고려하여 최종적으로 가장 높은 숫자의 카드를 뽑을 수 있도록 전략을 세워야 한다.\n",
    "카드들이 N x M 형태로 놓여 있을 때, 게임의 룰에 맞게 카드를 뽑는 프로그램을 만드시오.\n",
    "\n",
    "입력 조건\n",
    "첫째 줄에 숫자 카드들이 놓인 행의 개수 N과 열의 개수 M이 공백을 기준으로 하여 각각 자연수로 주어진다. (1 <= N, M <= 100)\n",
    "둘째 줄부터 N개의 줄에 걸쳐 각 카드에 적힌 숫자가 주어진다. 각 숫자는 1 이상 10,000 이하의 자연수이다.\n",
    "출력 조건\n",
    "첫째 줄에 게임의 룰에 맞게 선택한 카드에 적힌 숫자를 출력한다."
   ]
  },
  {
   "cell_type": "code",
   "execution_count": 37,
   "id": "ac5519c7",
   "metadata": {},
   "outputs": [
    {
     "name": "stdout",
     "output_type": "stream",
     "text": [
      "3 3\n",
      "3 1 2\n",
      "4 1 4\n",
      "2 2 2\n",
      "2\n"
     ]
    }
   ],
   "source": [
    "n, m = map(int, input().split())\n",
    "card = [min(list(map(int, input().split()))) for _ in range(n)] \n",
    "print(max(card))"
   ]
  },
  {
   "cell_type": "markdown",
   "id": "1cc3224a",
   "metadata": {},
   "source": [
    "### 예제 4. 1이 될때까지\n",
    "문제\n",
    "어떠한 수 N이 1이 될 때 까지 다음의 두 과정 중 하나를 반복적으로 선택해 수행하려 함\n",
    "단, 두번째 연산은 N이 K로 나누어 떨어질 때만 선택할 수 있음\n",
    "N에서 1을 뺀다.\n",
    "N을 K로 나눈다.\n",
    "\n",
    "N이 1이 될 때 까지 1번 혹은 2번의 과정을 수행해야하는 최소 횟수를 구하는 프로그램을 작성\n",
    "\n",
    "입력\n",
    "첫째 줄에 N(2<= N <= 100000)과 K(2 <= K <= 100000)가 공백으로 구분되며 각각 자연수로 주어짐\n",
    "\n",
    "이때, 입력으로 주어지는 N은 항상 K보다 크거나 같음\n",
    "\n",
    "출력\n",
    "첫째 줄에 N이 1이 될 때까지 1번 혹은 2번의 과정을 수행해야 하는 횟수의 최솟값을 출력\n",
    "\n",
    "입력 예시\n",
    "3 3\n",
    "3 1 2\n",
    "4 1 4\n",
    "2 2 2\n",
    "\n",
    "출력 예시\n",
    "2\n"
   ]
  },
  {
   "cell_type": "code",
   "execution_count": 38,
   "id": "d797e005",
   "metadata": {},
   "outputs": [
    {
     "name": "stdout",
     "output_type": "stream",
     "text": [
      "25 5\n",
      "2\n"
     ]
    }
   ],
   "source": [
    "# 가장 단순한 방식 \n",
    "n, k = map(int, input().split())\n",
    "ans = 0 \n",
    "while True: \n",
    "    if n%k==0: \n",
    "        if n==1: \n",
    "            break \n",
    "        n/=k\n",
    "        ans+=1 \n",
    "    else: \n",
    "        if n==1: \n",
    "            break \n",
    "        n-=1 \n",
    "        ans +=1 \n",
    "print(ans)"
   ]
  }
 ],
 "metadata": {
  "kernelspec": {
   "display_name": "Python 3",
   "language": "python",
   "name": "python3"
  },
  "language_info": {
   "codemirror_mode": {
    "name": "ipython",
    "version": 3
   },
   "file_extension": ".py",
   "mimetype": "text/x-python",
   "name": "python",
   "nbconvert_exporter": "python",
   "pygments_lexer": "ipython3",
   "version": "3.8.8"
  }
 },
 "nbformat": 4,
 "nbformat_minor": 5
}
